{
  "nbformat": 4,
  "nbformat_minor": 0,
  "metadata": {
    "colab": {
      "name": "gba-toolchain-colab-test.ipynb",
      "provenance": [],
      "authorship_tag": "ABX9TyNOoyUgl4nZ8wmU+MyrNAwl",
      "include_colab_link": true
    },
    "kernelspec": {
      "name": "python3",
      "display_name": "Python 3"
    },
    "language_info": {
      "name": "python"
    }
  },
  "cells": [
    {
      "cell_type": "markdown",
      "metadata": {
        "id": "view-in-github",
        "colab_type": "text"
      },
      "source": [
        "<a href=\"https://colab.research.google.com/github/lardratboy/colab_gba_toolchain/blob/main/gba_toolchain_colab_test.ipynb\" target=\"_parent\"><img src=\"https://colab.research.google.com/assets/colab-badge.svg\" alt=\"Open In Colab\"/></a>"
      ]
    },
    {
      "cell_type": "markdown",
      "source": [
        "# gba-toolchain colab example\n",
        "\n",
        "https://github.com/felixjones/gba-toolchain/wiki/Installing-on-Linux"
      ],
      "metadata": {
        "id": "bsZ-xroRgyKI"
      }
    },
    {
      "cell_type": "markdown",
      "source": [
        "**STEP 1. Make sure you have an up to date cmake installed**"
      ],
      "metadata": {
        "id": "7o7Hd2W48uUo"
      }
    },
    {
      "cell_type": "code",
      "execution_count": null,
      "metadata": {
        "id": "WDUtMcniy8Hj"
      },
      "outputs": [],
      "source": [
        "!apt update\n",
        "!apt install -y cmake"
      ]
    },
    {
      "cell_type": "markdown",
      "source": [
        "**STEP 2. get the gba toolchain and unzip it (the following should do that if you see errors you may need to restart the runtime and/or make sure there were no error conditions from the STEP above.**"
      ],
      "metadata": {
        "id": "A2zNUn9V47vf"
      }
    },
    {
      "cell_type": "code",
      "source": [
        "!wget -O gba-toolchain-master.zip https://github.com/felixjones/gba-toolchain/archive/master.zip\n",
        "!unzip gba-toolchain-master.zip && rm gba-toolchain-master.zip && mv gba-toolchain-master gba-toolchain"
      ],
      "metadata": {
        "id": "E3sFyfwUbtvR"
      },
      "execution_count": null,
      "outputs": []
    },
    {
      "cell_type": "markdown",
      "source": [
        "**STEP 3. Get your gba project from github**"
      ],
      "metadata": {
        "id": "IphnL_nY5Rcu"
      }
    },
    {
      "cell_type": "code",
      "source": [
        "!git clone https://github.com/lardratboy/arm_hmap_renderer_circa_2002.git"
      ],
      "metadata": {
        "id": "L8sVefC0eWJq"
      },
      "execution_count": null,
      "outputs": []
    },
    {
      "cell_type": "markdown",
      "source": [
        "**STEP 4. If the following cell produces errors. try opening a terminal and manually entering the following commands, as the process can fail at many different layers, could be a compiler error in the github project etc. **\n"
      ],
      "metadata": {
        "id": "lwCKVnn115YW"
      }
    },
    {
      "cell_type": "code",
      "source": [
        "!cd /content/arm_hmap_renderer_circa_2002/\n",
        "!rm -r build\n",
        "!mkdir build\n",
        "!cd build\n",
        "!cmake -DCMAKE_TOOLCHAIN_FILE=../../gba-toolchain/arm-gba-toolchain.cmake ..\n",
        "!make all\n",
        "!make clean\n",
        "!make all"
      ],
      "metadata": {
        "id": "YzW9rlUQwn0X"
      },
      "execution_count": null,
      "outputs": []
    }
  ]
}